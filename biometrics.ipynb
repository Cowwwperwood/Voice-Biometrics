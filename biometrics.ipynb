{
 "cells": [
  {
   "cell_type": "markdown",
   "metadata": {},
   "source": [
    "# Biometrics "
   ]
  },
  {
   "cell_type": "code",
   "execution_count": 1,
   "metadata": {
    "execution": {
     "iopub.execute_input": "2025-03-25T07:23:39.663352Z",
     "iopub.status.busy": "2025-03-25T07:23:39.662341Z",
     "iopub.status.idle": "2025-03-25T07:23:42.014149Z",
     "shell.execute_reply": "2025-03-25T07:23:42.012788Z",
     "shell.execute_reply.started": "2025-03-25T07:23:39.663274Z"
    }
   },
   "outputs": [],
   "source": [
    "import os\n",
    "\n",
    "import matplotlib.pyplot as plt\n",
    "import numpy as np\n",
    "import pandas as pd\n",
    "import requests\n",
    "import torch\n",
    "import torch.nn as nn\n",
    "import torch.nn.functional as F\n",
    "import torch.optim as optim\n",
    "import torch.utils.data as torch_data\n",
    "import torchaudio\n",
    "import tqdm.notebook as tqdm\n",
    "import urllib\n",
    "\n",
    "import dataset\n",
    "\n",
    "from IPython.display import clear_output\n",
    "\n",
    "%matplotlib inline"
   ]
  },
  {
   "cell_type": "code",
   "execution_count": null,
   "metadata": {},
   "outputs": [],
   "source": [
    "base_url = 'https://cloud-api.yandex.net/v1/disk/public/resources/download?'\n",
    "public_key = 'https://disk.yandex.ru/d/lyhtieYbxQOYqw'\n",
    "final_url = base_url + urllib.parse.urlencode(dict(public_key=public_key))\n",
    "response = requests.get(final_url)\n",
    "download_url = response.json()['href']\n",
    "#!wget -O voxceleb.tar.gz \"{download_url}\"\n",
    "#!tar -xf voxceleb.tar.gz"
   ]
  },
  {
   "cell_type": "code",
   "execution_count": 19,
   "metadata": {
    "execution": {
     "iopub.execute_input": "2025-03-25T07:25:10.843474Z",
     "iopub.status.busy": "2025-03-25T07:25:10.842488Z",
     "iopub.status.idle": "2025-03-25T07:25:10.852342Z",
     "shell.execute_reply": "2025-03-25T07:25:10.850628Z",
     "shell.execute_reply.started": "2025-03-25T07:25:10.843391Z"
    }
   },
   "outputs": [],
   "source": [
    "DEVICE = 'cuda:3' \n",
    "DATADIR = ''\n",
    "FEATS = 80\n",
    "LOADER_WORKERS = 8"
   ]
  },
  {
   "cell_type": "code",
   "execution_count": null,
   "metadata": {},
   "outputs": [],
   "source": [
    "transform = torchaudio.transforms.MFCC(n_mfcc=FEATS)\n",
    "trainset = dataset.Dataset(os.path.join(DATADIR, 'voxceleb_train'), transform)\n",
    "testset = dataset.Dataset(os.path.join(DATADIR, 'voxceleb_test'), transform)\n",
    "test_targets = pd.read_csv(os.path.join(DATADIR, 'target.csv')).values.tolist()"
   ]
  },
  {
   "cell_type": "markdown",
   "metadata": {},
   "source": [
    "### Metrics\n"
   ]
  },
  {
   "cell_type": "code",
   "execution_count": 5,
   "metadata": {
    "execution": {
     "iopub.execute_input": "2025-03-25T07:23:53.156542Z",
     "iopub.status.busy": "2025-03-25T07:23:53.155537Z",
     "iopub.status.idle": "2025-03-25T07:23:53.165513Z",
     "shell.execute_reply": "2025-03-25T07:23:53.163865Z",
     "shell.execute_reply.started": "2025-03-25T07:23:53.156466Z"
    }
   },
   "outputs": [],
   "source": [
    "def cosine_similarity(a, b):\n",
    "    a = a.reshape(-1)\n",
    "    b = b.reshape(-1)\n",
    "    return np.dot(a, b) / np.linalg.norm(a) / np.linalg.norm(b)"
   ]
  },
  {
   "cell_type": "code",
   "execution_count": 6,
   "metadata": {
    "execution": {
     "iopub.execute_input": "2025-03-25T07:23:53.624538Z",
     "iopub.status.busy": "2025-03-25T07:23:53.623566Z",
     "iopub.status.idle": "2025-03-25T07:23:53.637993Z",
     "shell.execute_reply": "2025-03-25T07:23:53.636111Z",
     "shell.execute_reply.started": "2025-03-25T07:23:53.624464Z"
    }
   },
   "outputs": [],
   "source": [
    "def best_eer(data):\n",
    "    full = sorted(data, key=lambda x: (x[0], -x[1]))\n",
    "    pos = len([item for item in full if item[1] == 1])\n",
    "    neg = len(full) - pos\n",
    "    cur_pos = pos\n",
    "    cur_neg = 0\n",
    "    best_eer = 1\n",
    "    for _, label in full:\n",
    "        if label == 1:\n",
    "            cur_pos -= 1\n",
    "        else:\n",
    "            cur_neg += 1\n",
    "        cur_eer = max((pos - cur_pos) / pos, (neg - cur_neg) / neg)\n",
    "        best_eer = min(best_eer, cur_eer)\n",
    "    return best_eer"
   ]
  },
  {
   "cell_type": "markdown",
   "metadata": {},
   "source": [
    "### Train"
   ]
  },
  {
   "cell_type": "code",
   "execution_count": 29,
   "metadata": {
    "execution": {
     "iopub.execute_input": "2025-03-25T08:01:10.949349Z",
     "iopub.status.busy": "2025-03-25T08:01:10.948362Z",
     "iopub.status.idle": "2025-03-25T08:01:10.963317Z",
     "shell.execute_reply": "2025-03-25T08:01:10.961846Z",
     "shell.execute_reply.started": "2025-03-25T08:01:10.949275Z"
    }
   },
   "outputs": [],
   "source": [
    "def train_stage(model, opt, batch_size: int = 256):\n",
    "    loader = torch_data.DataLoader(\n",
    "        trainset,\n",
    "        shuffle=True,\n",
    "        batch_size=batch_size,\n",
    "        collate_fn=dataset.collate_fn,\n",
    "        num_workers=LOADER_WORKERS,\n",
    "    )\n",
    "    loss_sum = 0.0\n",
    "    batches = 0\n",
    "    for X, Y, _ in tqdm.tqdm(loader):\n",
    "        logits, _ = model.forward(X.to(DEVICE), Y.to(DEVICE))\n",
    "        loss = F.nll_loss(logits, Y.to(DEVICE))\n",
    "        loss_sum += loss.item()\n",
    "        batches += 1\n",
    "        opt.zero_grad()\n",
    "        loss.backward()\n",
    "        opt.step()\n",
    "    res = loss_sum / batches\n",
    "    return res"
   ]
  },
  {
   "cell_type": "code",
   "execution_count": 8,
   "metadata": {
    "execution": {
     "iopub.execute_input": "2025-03-25T07:23:54.739783Z",
     "iopub.status.busy": "2025-03-25T07:23:54.738804Z",
     "iopub.status.idle": "2025-03-25T07:23:54.755065Z",
     "shell.execute_reply": "2025-03-25T07:23:54.753411Z",
     "shell.execute_reply.started": "2025-03-25T07:23:54.739707Z"
    }
   },
   "outputs": [],
   "source": [
    "def calc_eval_score(model: nn.Module, batch_size: int = 256):\n",
    "    loader = torch_data.DataLoader(\n",
    "        testset,\n",
    "        batch_size=batch_size,\n",
    "        collate_fn=dataset.collate_fn,\n",
    "        num_workers=LOADER_WORKERS,\n",
    "    )\n",
    "    items = {}\n",
    "    target_scores = []\n",
    "    with torch.no_grad():\n",
    "        for X, _, pathes in tqdm.tqdm(loader):\n",
    "            _, embds = model.forward(X.to(DEVICE) , _.to(DEVICE))\n",
    "            embds = embds.cpu().data.numpy().reshape(X.shape[0], -1)\n",
    "            for embd, path in zip(embds, pathes):\n",
    "                items[path] = embd\n",
    "    for item1, item2, target in test_targets:\n",
    "        target_scores.append((cosine_similarity(items[item1], items[item2]), target))\n",
    "    return best_eer(target_scores)"
   ]
  },
  {
   "cell_type": "code",
   "execution_count": 31,
   "metadata": {
    "execution": {
     "iopub.execute_input": "2025-03-25T08:03:03.456634Z",
     "iopub.status.busy": "2025-03-25T08:03:03.455625Z",
     "iopub.status.idle": "2025-03-25T08:03:03.474287Z",
     "shell.execute_reply": "2025-03-25T08:03:03.472953Z",
     "shell.execute_reply.started": "2025-03-25T08:03:03.456559Z"
    }
   },
   "outputs": [],
   "source": [
    "def train(\n",
    "    model: nn.Module,\n",
    "    opt,\n",
    "    scheduler=None,\n",
    "    batch_size: int = 256,\n",
    "    epochs: int = 25,\n",
    "    train_fun = train_stage,\n",
    "    train_kwargs = {},\n",
    "):\n",
    "    train_losses = []\n",
    "    eval_scores = []\n",
    "    for epoch in range(epochs):\n",
    "        model.train()\n",
    "        train_losses.append(train_fun(model, opt, batch_size=batch_size))\n",
    "        model.eval()\n",
    "        eval_scores.append(calc_eval_score(model, batch_size=batch_size))\n",
    "        if scheduler and not isinstance(scheduler, torch.optim.lr_scheduler.ReduceLROnPlateau):\n",
    "            scheduler.step()  \n",
    "\n",
    "        clear_output()\n",
    "        fig, axis = plt.subplots(1, 2, figsize=(15, 7))\n",
    "        axis[0].plot(np.arange(1, epoch + 2), train_losses, label='train CE loss')\n",
    "        axis[1].plot(np.arange(1, epoch + 2), eval_scores, label='eval')\n",
    "        axis[0].set(xlabel='epoch', ylabel='CE Loss')\n",
    "        axis[1].set(xlabel='epoch', ylabel='EER')\n",
    "        fig.legend()\n",
    "        plt.show()\n",
    "        print(f'Epoch {epoch + 1}. Train loss {train_losses[-1]}. Eval score {eval_scores[-1]}')"
   ]
  },
  {
   "cell_type": "markdown",
   "metadata": {},
   "source": [
    "### ECAPA TDNN"
   ]
  },
  {
   "cell_type": "code",
   "execution_count": 36,
   "metadata": {
    "execution": {
     "iopub.execute_input": "2025-03-25T08:46:42.555449Z",
     "iopub.status.busy": "2025-03-25T08:46:42.554475Z",
     "iopub.status.idle": "2025-03-25T08:46:42.576490Z",
     "shell.execute_reply": "2025-03-25T08:46:42.574747Z",
     "shell.execute_reply.started": "2025-03-25T08:46:42.555373Z"
    }
   },
   "outputs": [],
   "source": [
    "class ConvBlock(nn.Module):\n",
    "    def __init__(self, in_channels, out_channels, kernel_size=3, stride=1, padding=1):\n",
    "        super(ConvBlock, self).__init__()\n",
    "        self.conv = nn.Conv1d(in_channels, out_channels, kernel_size, stride, padding, bias=False)\n",
    "        self.bn = nn.BatchNorm1d(out_channels) \n",
    "        self.relu = nn.ReLU(inplace=True)       \n",
    "    \n",
    "    def forward(self, x):\n",
    "        return self.relu(self.bn(self.conv(x))) \n",
    "\n",
    "class SEBlock(nn.Module):\n",
    "    def __init__(self, input_shape: int, reduction: int):\n",
    "        super().__init__()\n",
    "        self.F_tr = ConvBlock(input_shape, input_shape * 2)\n",
    "        self.F_sq = nn.AdaptiveAvgPool1d(1)\n",
    "        self.F_ex1 = nn.Linear(input_shape * 2, input_shape * 2 // reduction)\n",
    "        self.F_ex2 = nn.Linear(input_shape * 2 // reduction, input_shape * 2) \n",
    "        self.sigmoid = nn.Sigmoid()\n",
    "        \n",
    "    def __call__(self, X):\n",
    "        X = self.F_tr(X)\n",
    "        X_res = X.clone()\n",
    "        batch_size, C, T = X.shape\n",
    "        Z = self.F_sq(X)\n",
    "        Z = self.F_sq(X).view(batch_size, C)\n",
    "        Z = F.relu(self.F_ex1(Z))\n",
    "        Z = self.F_ex2(Z)\n",
    "        scale = self.sigmoid(Z).view(Z.size(0), Z.size(1), 1)\n",
    "        X = (X * scale) + X_res\n",
    "        return X"
   ]
  },
  {
   "cell_type": "code",
   "execution_count": 37,
   "metadata": {
    "execution": {
     "iopub.execute_input": "2025-03-25T08:46:43.167085Z",
     "iopub.status.busy": "2025-03-25T08:46:43.166109Z",
     "iopub.status.idle": "2025-03-25T08:46:43.190977Z",
     "shell.execute_reply": "2025-03-25T08:46:43.189346Z",
     "shell.execute_reply.started": "2025-03-25T08:46:43.167010Z"
    }
   },
   "outputs": [],
   "source": [
    "class Res2NetBlock(nn.Module):\n",
    "    def __init__(self, input_channels, output_channels, num_groups):\n",
    "        super(Res2NetBlock, self).__init__()\n",
    "        self.num_groups = num_groups\n",
    "        self.convs = nn.ModuleList([ConvBlock(input_channels, output_channels) for _ in range(num_groups)])\n",
    "\n",
    "    def forward(self, X):\n",
    "        B, G, C, T = X.shape  \n",
    "        \n",
    "        conv_outputs = []\n",
    "        previous_output = None  \n",
    "        \n",
    "        for i in range(G):\n",
    "            if i == 0:\n",
    "                conv_outputs.append(X[:, i, :, :]) \n",
    "                previous_output = X[:, i, :, :] \n",
    "            else:\n",
    "                current_input = X[:, i, :, :] + previous_output\n",
    "                conv_output = self.convs[i](current_input)\n",
    "                conv_outputs.append(conv_output)\n",
    "                previous_output = conv_output  \n",
    "\n",
    "        X_concat = torch.cat(conv_outputs, dim=1)  \n",
    "\n",
    "        return X_concat       \n",
    "\n",
    "\n",
    "class Res2Net(nn.Module):\n",
    "    def __init__(self, hidden: int, dilation: int, scale: int):\n",
    "        super().__init__()\n",
    "        assert hidden % (scale*2) == 0\n",
    "        self.conv1 = nn.Conv1d(hidden, hidden//2, 1)\n",
    "        self.scale = scale\n",
    "        self.count_split = int(hidden / (scale*2))\n",
    "        self.res2netblock = Res2NetBlock(self.count_split, self.count_split, self.scale)\n",
    "        self.conv2 = nn.Conv1d(hidden//2, hidden, 1)\n",
    "        \n",
    "    def __call__(self, X):\n",
    "        X_resudial = X.clone()\n",
    "        X = self.conv1(X)\n",
    "        B, C, T = X.shape\n",
    "        X_split = X.view(B, self.scale, self.count_split, T)\n",
    "        X_res = self.res2netblock(X_split)\n",
    "        X_res = self.conv2(X_res) + X_resudial\n",
    "        return X_res"
   ]
  },
  {
   "cell_type": "code",
   "execution_count": 38,
   "metadata": {
    "execution": {
     "iopub.execute_input": "2025-03-25T08:46:45.330920Z",
     "iopub.status.busy": "2025-03-25T08:46:45.329933Z",
     "iopub.status.idle": "2025-03-25T08:46:45.349324Z",
     "shell.execute_reply": "2025-03-25T08:46:45.347600Z",
     "shell.execute_reply.started": "2025-03-25T08:46:45.330844Z"
    }
   },
   "outputs": [],
   "source": [
    "class EcapaBlock(nn.Module):\n",
    "    def __init__(self, hidden: int, dilation: int, scale: int):\n",
    "        super().__init__()\n",
    "        self.conv1 = nn.Conv1d(hidden, hidden * 2, kernel_size = 3, padding = 1)\n",
    "        self.relu = nn.ReLU()\n",
    "        self.bn1 = nn.BatchNorm1d(hidden * 2)\n",
    "        \n",
    "        self.res2net = Res2Net(hidden*2, dilation = 2, scale = 4)\n",
    "        \n",
    "        self.conv2 = nn.Conv1d(hidden * 2, hidden, kernel_size = 3, padding = 1)\n",
    "        self.relu = nn.ReLU()\n",
    "        self.bn2 = nn.BatchNorm1d(hidden)\n",
    "        \n",
    "        self.se_block = SEBlock(hidden, reduction = 16)\n",
    "\n",
    "        self.conv3 = nn.Conv1d(hidden * 2, hidden, kernel_size = 3, padding = 1)\n",
    "        self.relu = nn.ReLU()\n",
    "        self.bn3 = nn.BatchNorm1d(hidden)\n",
    "        \n",
    "        \n",
    "    def __call__(self, X):\n",
    "        X = self.relu(self.bn1(self.conv1(X)))\n",
    "        X = self.res2net(X)\n",
    "        X = self.relu(self.bn2(self.conv2(X)))\n",
    "        X = self.se_block(X)\n",
    "        X = self.relu(self.bn3(self.conv3(X)))\n",
    "        return X"
   ]
  },
  {
   "cell_type": "code",
   "execution_count": 39,
   "metadata": {
    "execution": {
     "iopub.execute_input": "2025-03-25T08:46:47.805398Z",
     "iopub.status.busy": "2025-03-25T08:46:47.804418Z",
     "iopub.status.idle": "2025-03-25T08:46:47.824698Z",
     "shell.execute_reply": "2025-03-25T08:46:47.823344Z",
     "shell.execute_reply.started": "2025-03-25T08:46:47.805323Z"
    }
   },
   "outputs": [],
   "source": [
    "import torch\n",
    "import torch.nn as nn\n",
    "\n",
    "class AttentiveStatsPooling(nn.Module):\n",
    "    def __init__(self, input_shape: int, hidden: int):\n",
    "        super(AttentiveStatsPooling, self).__init__()\n",
    "        \n",
    "        self.attention = nn.Sequential(\n",
    "            nn.Linear(input_shape * 3, hidden),\n",
    "            nn.ReLU(),\n",
    "            nn.Linear(hidden, 1)\n",
    "        )\n",
    "\n",
    "    def forward(self, X):\n",
    "\n",
    "        X = X.transpose(1, 2)\n",
    "        \n",
    "        B, T, F = X.shape\n",
    "        \n",
    "        mean = X.mean(dim=1, keepdim=True)  \n",
    "        std = X.std(dim=1, keepdim=True)       \n",
    "        \n",
    "        mean_expanded = mean.expand(B, T, -1)\n",
    "        std_expanded = std.expand(B, T, -1)\n",
    "        X_cat = torch.cat([X, mean_expanded, std_expanded], dim=2) \n",
    "        \n",
    "        attn_scores = self.attention(X_cat.view(B * T, -1)) \n",
    "        attn_weights = torch.softmax(attn_scores.view(B, T), dim=1)  \n",
    "        \n",
    "        weighted_mean = (attn_weights.unsqueeze(-1) * X).sum(dim=1) \n",
    "        \n",
    "        diff_squared = (X - weighted_mean.unsqueeze(1)) ** 2\n",
    "        weighted_std = torch.sqrt((attn_weights.unsqueeze(-1) * diff_squared).sum(dim=1) + 1e-9)  \n",
    "        \n",
    "        pooled = torch.cat([weighted_mean, weighted_std], dim=1) \n",
    "        return pooled"
   ]
  },
  {
   "cell_type": "code",
   "execution_count": 40,
   "metadata": {
    "execution": {
     "iopub.execute_input": "2025-03-25T08:47:30.322775Z",
     "iopub.status.busy": "2025-03-25T08:47:30.321807Z",
     "iopub.status.idle": "2025-03-25T08:47:30.342052Z",
     "shell.execute_reply": "2025-03-25T08:47:30.340333Z",
     "shell.execute_reply.started": "2025-03-25T08:47:30.322700Z"
    }
   },
   "outputs": [],
   "source": [
    "import torch\n",
    "import torch.nn as nn\n",
    "import torch.nn.functional as F\n",
    "\n",
    "class AAMSoftmax(nn.Module):\n",
    "    def __init__(self, input_shape, n_class, margin, scale):\n",
    "        super(AAMSoftmax, self).__init__()\n",
    "        self.margin = margin\n",
    "        self.scale = scale\n",
    "        self.n_class = n_class\n",
    "        self.input_shape = input_shape\n",
    "        self.weight = nn.Parameter(torch.FloatTensor(n_class, input_shape))\n",
    "        nn.init.xavier_uniform_(self.weight)\n",
    "\n",
    "    def forward(self, X, y):\n",
    "        X_norm = F.normalize(X, p=2, dim=1)\n",
    "        W_norm = F.normalize(self.weight, p=2, dim=1)\n",
    "        \n",
    "        cosine = F.linear(X_norm, W_norm)\n",
    "        cosine = cosine.clamp(-1.0, 1.0) \n",
    "        \n",
    "        theta = torch.acos(cosine)\n",
    "        \n",
    "        one_hot = torch.zeros_like(cosine)\n",
    "        one_hot.scatter_(1, y.view(-1, 1), 1)\n",
    "        \n",
    "        cosine_margin = torch.cos(theta + self.margin)\n",
    "        \n",
    "        output = cosine * (1 - one_hot) + cosine_margin * one_hot\n",
    "        \n",
    "        output *= self.scale\n",
    "        \n",
    "        log_prob = torch.log_softmax(output, dim=1)\n",
    "        return log_prob"
   ]
  },
  {
   "cell_type": "code",
   "execution_count": 41,
   "metadata": {
    "execution": {
     "iopub.execute_input": "2025-03-25T08:47:36.769512Z",
     "iopub.status.busy": "2025-03-25T08:47:36.768546Z",
     "iopub.status.idle": "2025-03-25T08:47:36.789331Z",
     "shell.execute_reply": "2025-03-25T08:47:36.788084Z",
     "shell.execute_reply.started": "2025-03-25T08:47:36.769439Z"
    }
   },
   "outputs": [],
   "source": [
    "class EcapaTDNN(nn.Module):\n",
    "    def __init__(self, input_shape: int, hidden_shape: int,output_shape: int, n_class):\n",
    "        super().__init__()\n",
    "        self.conv1 = nn.Sequential(\n",
    "            nn.Conv1d(input_shape, hidden_shape, kernel_size = 5, dilation = 1, padding = 2),\n",
    "            nn.ReLU(),\n",
    "            nn.BatchNorm1d(hidden_shape)\n",
    "        )\n",
    "        self.ecapablock1 = EcapaBlock(hidden_shape, dilation = 2, scale = 2)\n",
    "        self.ecapablock2 = EcapaBlock(hidden_shape, dilation = 2, scale = 3)\n",
    "        self.ecapablock3 = EcapaBlock(hidden_shape, dilation = 2, scale = 4)\n",
    "        self.conv2 = nn.Sequential(\n",
    "            nn.Conv1d(hidden_shape * 3, hidden_shape * 3, kernel_size = 1, dilation = 1),\n",
    "            nn.ReLU()\n",
    "        )\n",
    "        \n",
    "        self.pooling_layer = AttentiveStatsPooling(input_shape=hidden_shape * 3, hidden=hidden_shape * 3 * 2)\n",
    "        self.bn1 = nn.BatchNorm1d(output_shape)\n",
    "        self.fc = nn.Linear(hidden_shape * 3 * 2, output_shape)\n",
    "        self.faam = AAMSoftmax(input_shape=output_shape, n_class=n_class, margin=0.2, scale=30)\n",
    "\n",
    "\n",
    "        \n",
    "\n",
    "    def forward(self, X,y):\n",
    "        X = self.conv1(X)\n",
    "        X1 = self.ecapablock1(X)\n",
    "        X2 = self.ecapablock2(X)\n",
    "        X3 = self.ecapablock3(X)\n",
    "    \n",
    "        X = torch.cat([X1, X2, X3], dim=1) \n",
    "        X = self.conv2(X)\n",
    "        X = self.pooling_layer(X)\n",
    "        X = self.fc(X)\n",
    "        emb = self.bn1(X)\n",
    "        \n",
    "        X = self.faam(emb,y)\n",
    "        return X, emb"
   ]
  },
  {
   "cell_type": "code",
   "execution_count": 28,
   "metadata": {
    "execution": {
     "iopub.execute_input": "2025-03-25T07:56:31.841655Z",
     "iopub.status.busy": "2025-03-25T07:56:31.840663Z",
     "iopub.status.idle": "2025-03-25T07:56:31.901165Z",
     "shell.execute_reply": "2025-03-25T07:56:31.900195Z",
     "shell.execute_reply.started": "2025-03-25T07:56:31.841581Z"
    }
   },
   "outputs": [
    {
     "name": "stdout",
     "output_type": "stream",
     "text": [
      "Total trainable parameters: 1,329,039\n",
      "67785\n"
     ]
    }
   ],
   "source": [
    "model = EcapaTDNN(FEATS, FEATS,192, trainset.speakers()).to(DEVICE)\n",
    "\n",
    "total_params = sum(p.numel() for p in model.parameters() if p.requires_grad)\n",
    "print(f\"Total trainable parameters: {total_params:,}\")\n",
    "print(len(trainset))"
   ]
  },
  {
   "cell_type": "code",
   "execution_count": 33,
   "metadata": {
    "execution": {
     "iopub.execute_input": "2025-03-25T08:04:23.433074Z",
     "iopub.status.busy": "2025-03-25T08:04:23.432084Z",
     "iopub.status.idle": "2025-03-25T08:40:46.935129Z",
     "shell.execute_reply": "2025-03-25T08:40:46.934300Z",
     "shell.execute_reply.started": "2025-03-25T08:04:23.432999Z"
    }
   },
   "outputs": [
    {
     "data": {
      "image/png": "[encoded data removed]",
      "text/plain": [
       "<Figure size 1500x700 with 2 Axes>"
      ]
     },
     "metadata": {},
     "output_type": "display_data"
    },
    {
     "name": "stdout",
     "output_type": "stream",
     "text": [
      "Epoch 25. Train loss 0.3922309032026327. Eval score 0.08805391315404666\n"
     ]
    }
   ],
   "source": [
    "import torch.optim as optim\n",
    "from torch.optim.lr_scheduler import CosineAnnealingLR\n",
    "\n",
    "model = EcapaTDNN(FEATS, FEATS, 192, trainset.speakers()).to(DEVICE)\n",
    "opt = optim.Adam(model.parameters())\n",
    "scheduler = CosineAnnealingLR(opt, T_max=25)\n",
    "\n",
    "train(model, opt, scheduler, batch_size=128)"
   ]
  },
  {
   "cell_type": "code",
   "execution_count": 34,
   "metadata": {
    "execution": {
     "iopub.execute_input": "2025-03-25T08:41:19.839080Z",
     "iopub.status.busy": "2025-03-25T08:41:19.838039Z",
     "iopub.status.idle": "2025-03-25T08:41:19.944067Z",
     "shell.execute_reply": "2025-03-25T08:41:19.943468Z",
     "shell.execute_reply.started": "2025-03-25T08:41:19.839001Z"
    }
   },
   "outputs": [],
   "source": [
    "torch.save(model, 'model.pt')"
   ]
  }
 ],
 "metadata": {
  "kernelspec": {
   "display_name": "speech",
   "language": "python",
   "name": "speech"
  },
  "language_info": {
   "codemirror_mode": {
    "name": "ipython",
    "version": 3
   },
   "file_extension": ".py",
   "mimetype": "text/x-python",
   "name": "python",
   "nbconvert_exporter": "python",
   "pygments_lexer": "ipython3",
   "version": "3.10.12"
  }
 },
 "nbformat": 4,
 "nbformat_minor": 4
}
